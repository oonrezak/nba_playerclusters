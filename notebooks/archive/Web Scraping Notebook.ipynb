{
 "cells": [
  {
   "cell_type": "code",
   "execution_count": null,
   "id": "d5366917",
   "metadata": {},
   "outputs": [],
   "source": [
    "import pandas as pd\n",
    "import numpy as np\n",
    "import matplotlib.pyplot as plt\n",
    "import seaborn as sns\n",
    "\n",
    "from bs4 import BeautifulSoup\n",
    "import requests\n",
    "from time import sleep\n",
    "import os\n",
    "\n",
    "os.environ['HTTP_PROXY'] = # Proxy of your choice\n",
    "\n",
    "# Working browser headers at time of first run, input headers of your choice\n",
    "browser_headers = {'User-Agent': 'Mozilla/5.0 (Windows NT 10.0; Win64; x64) AppleWebKit/537.36 (KHTML, like Gecko) Chrome/74.0.3729.169 Safari/537.36'}\n",
    "\n",
    "import sqlite3"
   ]
  },
  {
   "cell_type": "code",
   "execution_count": 3,
   "id": "28477bc6",
   "metadata": {
    "ExecuteTime": {
     "end_time": "2019-07-23T10:05:57.937334Z",
     "start_time": "2019-07-23T10:05:57.933348Z"
    },
    "scrolled": false
   },
   "outputs": [],
   "source": [
    "# resp = requests.get('https://www.basketball-reference.com/leagues/NBA_2019_per_game.html', headers=browser_headers)\n",
    "# resp.status_code"
   ]
  },
  {
   "cell_type": "markdown",
   "id": "1cdeedf1",
   "metadata": {
    "ExecuteTime": {
     "end_time": "2019-07-08T02:28:38.814819Z",
     "start_time": "2019-07-08T02:28:38.654152Z"
    }
   },
   "source": [
    "Upon visual inspection of the webpage, it appears that the stats are organized in a tabular format. Thus, `BeautifulSoup4` and `pandas` will be used in conjunction to retrieve the data from the response text."
   ]
  },
  {
   "cell_type": "code",
   "execution_count": 4,
   "id": "36c4bea1",
   "metadata": {
    "ExecuteTime": {
     "end_time": "2019-07-23T10:05:57.944317Z",
     "start_time": "2019-07-23T10:05:57.940327Z"
    }
   },
   "outputs": [],
   "source": [
    "# rsp_soup = BeautifulSoup(resp.text, 'lxml')\n",
    "# tables = rsp_soup.select('table')\n",
    "# # Check how many tables in the page:\n",
    "# len(tables)"
   ]
  },
  {
   "cell_type": "markdown",
   "id": "3559d670",
   "metadata": {},
   "source": [
    "Since there is only one table in the page, then it is already the table in question.\n",
    "\n",
    "**Note:** To illustrate the preprocessing without having to scrape the website again, the raw DataFrame (as obtained from the website) was saved to a CSV file and read in the cell below."
   ]
  },
  {
   "cell_type": "code",
   "execution_count": 5,
   "id": "03fc1dd5",
   "metadata": {
    "ExecuteTime": {
     "end_time": "2019-07-23T10:05:58.007151Z",
     "start_time": "2019-07-23T10:05:57.947309Z"
    }
   },
   "outputs": [],
   "source": [
    "# all_players_data_2019 = pd.read_html(str(tables[0]))[0]\n",
    "# all_players_data_2019.shape\n",
    "# all_players_data_2019.to_csv('../data/raw_df_2019.csv')"
   ]
  },
  {
   "cell_type": "code",
   "execution_count": null,
   "id": "202cd537",
   "metadata": {},
   "outputs": [],
   "source": []
  }
 ],
 "metadata": {
  "kernelspec": {
   "display_name": "Python [conda env:standard]",
   "language": "python",
   "name": "conda-env-standard-py"
  },
  "language_info": {
   "codemirror_mode": {
    "name": "ipython",
    "version": 3
   },
   "file_extension": ".py",
   "mimetype": "text/x-python",
   "name": "python",
   "nbconvert_exporter": "python",
   "pygments_lexer": "ipython3",
   "version": "3.9.7"
  }
 },
 "nbformat": 4,
 "nbformat_minor": 5
}
